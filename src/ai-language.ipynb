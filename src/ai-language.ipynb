{
 "cells": [
  {
   "cell_type": "markdown",
   "metadata": {},
   "source": [
    "https://pypi.org/project/azure-ai-textanalytics/"
   ]
  },
  {
   "cell_type": "code",
   "execution_count": null,
   "metadata": {},
   "outputs": [],
   "source": [
    "#pip install azure-ai-textanalytics\n"
   ]
  },
  {
   "cell_type": "code",
   "execution_count": 6,
   "metadata": {},
   "outputs": [],
   "source": [
    "from dotenv import load_dotenv\n",
    "import os\n",
    "from azure.core.credentials import AzureKeyCredential\n",
    "from azure.ai.textanalytics import TextAnalyticsClient\n",
    "\n",
    "load_dotenv()\n",
    "\n",
    "# endpoint = os.environ[\"AZURE_LANGUAGE_ENDPOINT\"]\n",
    "# key = os.environ[\"AZURE_LANGUAGE_KEY\"]\n",
    "\n",
    "endpoint = os.environ.get('AZURE_LANGUAGE_ENDPOINT')\n",
    "key = os.environ.get('AZURE_LANGUAGE_KEY')\n",
    "\n",
    "text_analytics_client = TextAnalyticsClient(endpoint, AzureKeyCredential(key))"
   ]
  },
  {
   "cell_type": "code",
   "execution_count": 7,
   "metadata": {},
   "outputs": [
    {
     "name": "stdout",
     "output_type": "stream",
     "text": [
      "negative\n"
     ]
    }
   ],
   "source": [
    "documents = [\"I hated the movie. It was so slow!\", \"The movie made it into my top ten favorites. What a great movie!\"]\n",
    "response = text_analytics_client.analyze_sentiment(documents)\n",
    "successful_responses = [doc for doc in response if not doc.is_error]\n",
    "print(successful_responses[0].sentiment)"
   ]
  }
 ],
 "metadata": {
  "kernelspec": {
   "display_name": "Python 3",
   "language": "python",
   "name": "python3"
  },
  "language_info": {
   "codemirror_mode": {
    "name": "ipython",
    "version": 3
   },
   "file_extension": ".py",
   "mimetype": "text/x-python",
   "name": "python",
   "nbconvert_exporter": "python",
   "pygments_lexer": "ipython3",
   "version": "3.12.4"
  }
 },
 "nbformat": 4,
 "nbformat_minor": 2
}
